{
 "cells": [
  {
   "cell_type": "markdown",
   "metadata": {},
   "source": [
    "## pandas\n",
    "pandasは数値計算ライブラリです。\n",
    "\n",
    "公式ドキュメントURL(PDFになっている) \n",
    "\n",
    "https://pandas.pydata.org/pandas-docs/version/0.22/\n",
    "\n",
    "pandasの保持するデータ構造は「データフレーム」である（因みにNumpyは行列）\n",
    "\n",
    "データフレームとはいわゆる下記のような「表形式」を指します\n",
    "\n",
    "|　|姓|名|\n",
    "|:--|--:|--:|\n",
    "|1|ビート|たけし|\n",
    "|2|明石家|さんま|\n",
    "|3|島田|紳助|\n",
    "\n",
    "姓名と書かれている部分がcolumn(列名)\n",
    "\n",
    "1,2,3と書かれている部分がindex(行名)と言われます"
   ]
  },
  {
   "cell_type": "markdown",
   "metadata": {},
   "source": [
    "# DF生成"
   ]
  },
  {
   "cell_type": "code",
   "execution_count": 41,
   "metadata": {},
   "outputs": [],
   "source": [
    "\"\"\"読み込み\n",
    "pandasはNumpyと共に使用されることが多い\n",
    "\"\"\"\n",
    "import pandas as pd\n",
    "import numpy as np\n",
    "\n",
    "#乱数固定\n",
    "np.random.seed(7)"
   ]
  },
  {
   "cell_type": "code",
   "execution_count": 3,
   "metadata": {},
   "outputs": [
    {
     "name": "stdout",
     "output_type": "stream",
     "text": [
      "   0  1\n",
      "0  1  2\n",
      "1  3  4\n"
     ]
    }
   ],
   "source": [
    "\"\"\"DF生成法1\n",
    "columns,indexのデフォルトは、0から始まる連番\n",
    "\"\"\"\n",
    "df = pd.DataFrame([[1,2],[3,4]])\n",
    "print(df)"
   ]
  },
  {
   "cell_type": "code",
   "execution_count": 4,
   "metadata": {},
   "outputs": [
    {
     "name": "stdout",
     "output_type": "stream",
     "text": [
      "     姓    名\n",
      "1  ビート  たけし\n",
      "2  明石家  さんま\n",
      "3   島田   紳助\n"
     ]
    }
   ],
   "source": [
    "\"\"\"DF生成法2\n",
    "\"\"\"\n",
    "df = pd.DataFrame(\n",
    "    {\n",
    "        \"姓\":[\"ビート\",\"明石家\",\"島田\"],\n",
    "        \"名\":[\"たけし\",\"さんま\",\"紳助\"]\n",
    "    },index=[\"1\",\"2\",\"3\"]\n",
    ")\n",
    "print(df)"
   ]
  },
  {
   "cell_type": "code",
   "execution_count": 5,
   "metadata": {},
   "outputs": [
    {
     "name": "stdout",
     "output_type": "stream",
     "text": [
      "     姓    名\n",
      "1  ビート  たけし\n",
      "2  明石家  さんま\n",
      "3   島田   紳助\n"
     ]
    }
   ],
   "source": [
    "\"\"\"DF生成法3\n",
    "\"\"\"\n",
    "df = pd.DataFrame(\n",
    "    [\n",
    "        [\"ビート\",\"たけし\"],\n",
    "        [\"明石家\",\"さんま\"],\n",
    "        [\"島田\",\"紳助\"]\n",
    "    ]\n",
    "    ,index=[\"1\",\"2\",\"3\"]\n",
    "    ,columns=[\"姓\",\"名\"]\n",
    ")\n",
    "print(df)"
   ]
  },
  {
   "cell_type": "markdown",
   "metadata": {},
   "source": [
    "# DFへのアクセス"
   ]
  },
  {
   "cell_type": "code",
   "execution_count": 6,
   "metadata": {
    "scrolled": true
   },
   "outputs": [
    {
     "name": "stdout",
     "output_type": "stream",
     "text": [
      "    数学の点数  国語の点数  英語の点数\n",
      "0      87     51     91\n",
      "1      44     98     95\n",
      "2      65     87     95\n",
      "3      94     56     97\n",
      "4      43     52     52\n",
      "5      59     69     52\n",
      "6      63     83     85\n",
      "7      79     81     76\n",
      "8      68     49     47\n",
      "9      97     52     61\n",
      "10     54     43     98\n",
      "11     63     86     81\n",
      "12     48     54     78\n",
      "13     65     60     55\n",
      "14     86     93     83\n",
      "15     82     55     99\n",
      "16     66     99     58\n",
      "17     48     75     68\n",
      "18     79     88     56\n",
      "19     78     44     45\n",
      "20     44     83     75\n",
      "21     88     48     53\n",
      "22     47     66     72\n",
      "23     84     98     93\n",
      "24     40     94     63\n",
      "25     51     83     71\n",
      "26     95     87     73\n",
      "27     98     63     85\n",
      "28     46     53     80\n",
      "29     59     90     92\n",
      "..    ...    ...    ...\n",
      "70     95     82     76\n",
      "71     72     57     65\n",
      "72     61     45     84\n",
      "73     76     55     91\n",
      "74     75     89     94\n",
      "75     73     94     82\n",
      "76     43     52     68\n",
      "77     99     81     47\n",
      "78     67     80     89\n",
      "79     73     68     55\n",
      "80     59     94     40\n",
      "81     67     87     58\n",
      "82     44     77     79\n",
      "83     59     49     84\n",
      "84     73     63     88\n",
      "85     99     61     40\n",
      "86     70     44     84\n",
      "87     97     67     49\n",
      "88     77     52     86\n",
      "89     49     81     96\n",
      "90     69     51     74\n",
      "91     57     46     88\n",
      "92     71     96     83\n",
      "93     42     73     45\n",
      "94     59     61     61\n",
      "95     90     61     56\n",
      "96     58     70     81\n",
      "97     61     83     51\n",
      "98     95     68     82\n",
      "99     43     96     72\n",
      "\n",
      "[100 rows x 3 columns]\n"
     ]
    }
   ],
   "source": [
    "\"\"\"データフレーム情報取得\n",
    "通常はnumpyと共に使用されることが多いので、ここでは、numpyを用いてデータフレーム内の値を生成しています\n",
    "\"\"\"\n",
    "df = pd.DataFrame({\n",
    "    \"数学の点数\":np.random.randint(40,100,(100)),\n",
    "    \"国語の点数\":np.random.randint(40,100,(100)),\n",
    "    \"英語の点数\":np.random.randint(40,100,(100)),\n",
    "})\n",
    "print(df)"
   ]
  },
  {
   "cell_type": "code",
   "execution_count": 7,
   "metadata": {},
   "outputs": [
    {
     "name": "stdout",
     "output_type": "stream",
     "text": [
      "   数学の点数  国語の点数  英語の点数\n",
      "0     87     51     91\n",
      "1     44     98     95\n",
      "2     65     87     95\n",
      "3     94     56     97\n",
      "4     43     52     52\n"
     ]
    }
   ],
   "source": [
    "\"\"\"先頭5行取得\n",
    "\"\"\"\n",
    "print(df.head())"
   ]
  },
  {
   "cell_type": "code",
   "execution_count": 8,
   "metadata": {},
   "outputs": [
    {
     "name": "stdout",
     "output_type": "stream",
     "text": [
      "    数学の点数  国語の点数  英語の点数\n",
      "95     90     61     56\n",
      "96     58     70     81\n",
      "97     61     83     51\n",
      "98     95     68     82\n",
      "99     43     96     72\n"
     ]
    }
   ],
   "source": [
    "\"\"\"末尾の5行\n",
    "\"\"\"\n",
    "print(df.tail())"
   ]
  },
  {
   "cell_type": "code",
   "execution_count": 9,
   "metadata": {},
   "outputs": [
    {
     "name": "stdout",
     "output_type": "stream",
     "text": [
      "            数学の点数       国語の点数       英語の点数\n",
      "count  100.000000  100.000000  100.000000\n",
      "mean    67.600000   70.190000   71.600000\n",
      "std     18.175352   17.106733   16.818701\n",
      "min     40.000000   40.000000   40.000000\n",
      "25%     49.750000   53.750000   56.000000\n",
      "50%     67.000000   69.000000   73.000000\n",
      "75%     82.500000   83.250000   85.000000\n",
      "max     99.000000   99.000000   99.000000\n"
     ]
    }
   ],
   "source": [
    "\"\"\"統計量の取得\n",
    "\"\"\"\n",
    "print(df.describe())"
   ]
  },
  {
   "cell_type": "code",
   "execution_count": 10,
   "metadata": {},
   "outputs": [
    {
     "name": "stdout",
     "output_type": "stream",
     "text": [
      "Index(['数学の点数', '国語の点数', '英語の点数'], dtype='object')\n"
     ]
    }
   ],
   "source": [
    "\"\"\"カラムの定義\n",
    "\"\"\"\n",
    "print(df.columns)"
   ]
  },
  {
   "cell_type": "code",
   "execution_count": 11,
   "metadata": {},
   "outputs": [
    {
     "name": "stdout",
     "output_type": "stream",
     "text": [
      "RangeIndex(start=0, stop=100, step=1)\n"
     ]
    }
   ],
   "source": [
    "\"\"\"インデックスの定義\n",
    "\"\"\"\n",
    "print(df.index)"
   ]
  },
  {
   "cell_type": "code",
   "execution_count": 12,
   "metadata": {
    "scrolled": true
   },
   "outputs": [
    {
     "name": "stdout",
     "output_type": "stream",
     "text": [
      "0     87\n",
      "1     44\n",
      "2     65\n",
      "3     94\n",
      "4     43\n",
      "5     59\n",
      "6     63\n",
      "7     79\n",
      "8     68\n",
      "9     97\n",
      "10    54\n",
      "11    63\n",
      "12    48\n",
      "13    65\n",
      "14    86\n",
      "15    82\n",
      "16    66\n",
      "17    48\n",
      "18    79\n",
      "19    78\n",
      "20    44\n",
      "21    88\n",
      "22    47\n",
      "23    84\n",
      "24    40\n",
      "25    51\n",
      "26    95\n",
      "27    98\n",
      "28    46\n",
      "29    59\n",
      "      ..\n",
      "70    95\n",
      "71    72\n",
      "72    61\n",
      "73    76\n",
      "74    75\n",
      "75    73\n",
      "76    43\n",
      "77    99\n",
      "78    67\n",
      "79    73\n",
      "80    59\n",
      "81    67\n",
      "82    44\n",
      "83    59\n",
      "84    73\n",
      "85    99\n",
      "86    70\n",
      "87    97\n",
      "88    77\n",
      "89    49\n",
      "90    69\n",
      "91    57\n",
      "92    71\n",
      "93    42\n",
      "94    59\n",
      "95    90\n",
      "96    58\n",
      "97    61\n",
      "98    95\n",
      "99    43\n",
      "Name: 数学の点数, Length: 100, dtype: int32\n"
     ]
    }
   ],
   "source": [
    "\"\"\"特定列の取得\n",
    "\"\"\"\n",
    "print(df[\"数学の点数\"])"
   ]
  },
  {
   "cell_type": "code",
   "execution_count": 13,
   "metadata": {},
   "outputs": [
    {
     "name": "stdout",
     "output_type": "stream",
     "text": [
      "   数学の点数  国語の点数  英語の点数\n",
      "1     44     98     95\n",
      "2     65     87     95\n",
      "3     94     56     97\n",
      "4     43     52     52\n",
      "5     59     69     52\n",
      "6     63     83     85\n",
      "7     79     81     76\n",
      "8     68     49     47\n",
      "9     97     52     61\n"
     ]
    }
   ],
   "source": [
    "\"\"\"特定行の取得\n",
    "\"\"\"\n",
    "print(df[1:10])"
   ]
  },
  {
   "cell_type": "code",
   "execution_count": 42,
   "metadata": {},
   "outputs": [
    {
     "name": "stdout",
     "output_type": "stream",
     "text": [
      "    数学の点数  英語の点数\n",
      "1      82     94\n",
      "2      98     98\n",
      "3      88     61\n",
      "4      42     78\n",
      "5      79     83\n",
      "6      96     96\n",
      "7      50     77\n",
      "8      48     65\n",
      "9      69     44\n",
      "10     44     69\n"
     ]
    }
   ],
   "source": [
    "\"\"\"特定行列の取得\n",
    "\"\"\"\n",
    "print(df.loc[\n",
    "    1:10,\n",
    "    [\"数学の点数\",\"英語の点数\"]\n",
    "])"
   ]
  },
  {
   "cell_type": "code",
   "execution_count": 43,
   "metadata": {},
   "outputs": [
    {
     "name": "stdout",
     "output_type": "stream",
     "text": [
      "    数学の点数  国語の点数  英語の点数\n",
      "2      98     51     98\n",
      "6      96     76     96\n",
      "12     92     82     72\n",
      "17     97     57     75\n",
      "25     90     43     40\n",
      "37     95     99     68\n",
      "38     94     40     81\n",
      "49     91     89     55\n"
     ]
    }
   ],
   "source": [
    "\"\"\"条件で取得\n",
    "\"\"\"\n",
    "print(df[df.数学の点数>=90])"
   ]
  },
  {
   "cell_type": "markdown",
   "metadata": {},
   "source": [
    "# 追加と削除"
   ]
  },
  {
   "cell_type": "code",
   "execution_count": 44,
   "metadata": {},
   "outputs": [
    {
     "name": "stdout",
     "output_type": "stream",
     "text": [
      "   数学の点数  国語の点数  英語の点数\n",
      "0     87     59     54\n",
      "1     44     63     63\n",
      "2     65     79     48\n",
      "3     94     68     65\n",
      "4     43     97     86\n"
     ]
    }
   ],
   "source": [
    "\"\"\"行の追加\n",
    "\"\"\"\n",
    "df1 = pd.DataFrame({\n",
    "    \"数学の点数\":np.random.randint(40,100,(5)),\n",
    "    \"国語の点数\":np.random.randint(40,100,(5)),\n",
    "    \"英語の点数\":np.random.randint(40,100,(5)),\n",
    "})\n",
    "print(df1)"
   ]
  },
  {
   "cell_type": "code",
   "execution_count": 45,
   "metadata": {},
   "outputs": [
    {
     "name": "stdout",
     "output_type": "stream",
     "text": [
      "   数学の点数  国語の点数  英語の点数\n",
      "0     82     66     48\n"
     ]
    }
   ],
   "source": [
    "df2 = pd.DataFrame({\n",
    "    \"数学の点数\":np.random.randint(40,100,(1)),\n",
    "    \"国語の点数\":np.random.randint(40,100,(1)),\n",
    "    \"英語の点数\":np.random.randint(40,100,(1)),\n",
    "})\n",
    "print(df2)"
   ]
  },
  {
   "cell_type": "code",
   "execution_count": 46,
   "metadata": {},
   "outputs": [
    {
     "name": "stdout",
     "output_type": "stream",
     "text": [
      "   数学の点数  国語の点数  英語の点数\n",
      "0     87     59     54\n",
      "1     44     63     63\n",
      "2     65     79     48\n",
      "3     94     68     65\n",
      "4     43     97     86\n",
      "0     82     66     48\n"
     ]
    }
   ],
   "source": [
    "df=df1.append(df2)\n",
    "print(df)"
   ]
  },
  {
   "cell_type": "code",
   "execution_count": 47,
   "metadata": {},
   "outputs": [
    {
     "name": "stdout",
     "output_type": "stream",
     "text": [
      "   数学の点数  国語の点数  英語の点数\n",
      "0     79     84     46\n",
      "1     78     40     59\n",
      "2     44     51     84\n",
      "3     88     95     45\n",
      "4     47     98     96\n"
     ]
    }
   ],
   "source": [
    "\"\"\"列の追加\n",
    "\"\"\"\n",
    "df1 = pd.DataFrame({\n",
    "    \"数学の点数\":np.random.randint(40,100,(5)),\n",
    "    \"国語の点数\":np.random.randint(40,100,(5)),\n",
    "    \"英語の点数\":np.random.randint(40,100,(5)),\n",
    "})\n",
    "print(df1)"
   ]
  },
  {
   "cell_type": "code",
   "execution_count": 48,
   "metadata": {},
   "outputs": [
    {
     "name": "stdout",
     "output_type": "stream",
     "text": [
      "   理科の点数\n",
      "0     64\n",
      "1     95\n",
      "2     93\n",
      "3     88\n",
      "4     99\n"
     ]
    }
   ],
   "source": [
    "df2 = pd.DataFrame({\n",
    "    \"理科の点数\":np.random.randint(40,100,(5)),\n",
    "})\n",
    "print(df2)"
   ]
  },
  {
   "cell_type": "code",
   "execution_count": 49,
   "metadata": {},
   "outputs": [
    {
     "name": "stdout",
     "output_type": "stream",
     "text": [
      "   数学の点数  国語の点数  英語の点数  理科の点数\n",
      "0     79     84     46     64\n",
      "1     78     40     59     95\n",
      "2     44     51     84     93\n",
      "3     88     95     45     88\n",
      "4     47     98     96     99\n"
     ]
    }
   ],
   "source": [
    "df1[\"理科の点数\"]=df2\n",
    "print(df1)"
   ]
  },
  {
   "cell_type": "code",
   "execution_count": 50,
   "metadata": {
    "scrolled": true
   },
   "outputs": [
    {
     "name": "stdout",
     "output_type": "stream",
     "text": [
      "   数学の点数  国語の点数  英語の点数\n",
      "0     40     78     75\n",
      "1     74     44     43\n",
      "2     96     86     48\n",
      "3     49     49     59\n",
      "4     54     63     88\n",
      "0     41     40     56\n"
     ]
    }
   ],
   "source": [
    "\"\"\"行の追加\n",
    "\"\"\"\n",
    "df1 = pd.DataFrame({\n",
    "    \"数学の点数\":np.random.randint(40,100,(5)),\n",
    "    \"国語の点数\":np.random.randint(40,100,(5)),\n",
    "    \"英語の点数\":np.random.randint(40,100,(5)),\n",
    "})\n",
    "df2 = pd.DataFrame({\n",
    "    \"数学の点数\":np.random.randint(40,100,(1)),\n",
    "    \"国語の点数\":np.random.randint(40,100,(1)),\n",
    "    \"英語の点数\":np.random.randint(40,100,(1)),\n",
    "})\n",
    "df=pd.concat([df1,df2])\n",
    "print(df)"
   ]
  },
  {
   "cell_type": "code",
   "execution_count": 23,
   "metadata": {},
   "outputs": [
    {
     "name": "stdout",
     "output_type": "stream",
     "text": [
      "   数学の点数  国語の点数  英語の点数  理科の点数\n",
      "0     96     84     58     62\n",
      "1     93     95     96     58\n",
      "2     74     60     61     45\n",
      "3     52     83     90     79\n",
      "4     44     89     97     95\n"
     ]
    }
   ],
   "source": [
    "\"\"\"列の追加\n",
    "\"\"\"\n",
    "df1 = pd.DataFrame({\n",
    "    \"数学の点数\":np.random.randint(40,100,(5)),\n",
    "    \"国語の点数\":np.random.randint(40,100,(5)),\n",
    "    \"英語の点数\":np.random.randint(40,100,(5)),\n",
    "})\n",
    "df2 = pd.DataFrame({\n",
    "    \"理科の点数\":np.random.randint(40,100,(5)),\n",
    "})\n",
    "df=pd.concat([df1,df2],axis=1)\n",
    "print(df)"
   ]
  },
  {
   "cell_type": "code",
   "execution_count": 24,
   "metadata": {},
   "outputs": [
    {
     "name": "stdout",
     "output_type": "stream",
     "text": [
      "   数学の点数  国語の点数  英語の点数\n",
      "0     45     56     86\n",
      "1     45     82     78\n",
      "2     46     94     53\n",
      "3     71     86     42\n",
      "4     69     44     52\n"
     ]
    }
   ],
   "source": [
    "\"\"\"行列の削除\n",
    "\"\"\"\n",
    "df = pd.DataFrame({\n",
    "    \"数学の点数\":np.random.randint(40,100,(5)),\n",
    "    \"国語の点数\":np.random.randint(40,100,(5)),\n",
    "    \"英語の点数\":np.random.randint(40,100,(5)),\n",
    "})\n",
    "print(df)"
   ]
  },
  {
   "cell_type": "code",
   "execution_count": 25,
   "metadata": {},
   "outputs": [
    {
     "name": "stdout",
     "output_type": "stream",
     "text": [
      "   数学の点数  国語の点数  英語の点数\n",
      "0     45     56     86\n",
      "2     46     94     53\n",
      "3     71     86     42\n",
      "4     69     44     52\n"
     ]
    }
   ],
   "source": [
    "\"\"\"行の削除\"\"\"\n",
    "df=df.drop(1)\n",
    "print(df)"
   ]
  },
  {
   "cell_type": "code",
   "execution_count": 26,
   "metadata": {},
   "outputs": [
    {
     "name": "stdout",
     "output_type": "stream",
     "text": [
      "   国語の点数  英語の点数\n",
      "0     56     86\n",
      "2     94     53\n",
      "3     86     42\n",
      "4     44     52\n"
     ]
    }
   ],
   "source": [
    "\"\"\"列の削除\n",
    "\"\"\"\n",
    "del df[\"数学の点数\"]\n",
    "print(df)"
   ]
  },
  {
   "cell_type": "markdown",
   "metadata": {},
   "source": [
    "# ファイルへの読み書き\n",
    "csvデータをpandasのデータフレームとして扱うことができます"
   ]
  },
  {
   "cell_type": "code",
   "execution_count": 51,
   "metadata": {},
   "outputs": [
    {
     "name": "stdout",
     "output_type": "stream",
     "text": [
      "     姓    名\n",
      "0  明石家  サンマ\n",
      "1  ビート  たけし\n",
      "2   島田   紳助\n"
     ]
    }
   ],
   "source": [
    "\"\"\"読み込み\n",
    "\"\"\"\n",
    "df=pd.read_csv(\"./data/test_read.csv\",engine='python',encoding='utf8')\n",
    "print(df)"
   ]
  },
  {
   "cell_type": "code",
   "execution_count": 31,
   "metadata": {},
   "outputs": [
    {
     "name": "stdout",
     "output_type": "stream",
     "text": [
      "     0    1\n",
      "0    姓    名\n",
      "1  明石家  サンマ\n",
      "2  ビート  たけし\n",
      "3   島田   紳助\n"
     ]
    }
   ],
   "source": [
    "\"\"\"1行目をヘッダーとして扱わない\n",
    "\"\"\"\n",
    "df=pd.read_csv(\"./data/test_read.csv\",engine='python',header=None,encoding='utf8')\n",
    "print(df)"
   ]
  },
  {
   "cell_type": "code",
   "execution_count": 52,
   "metadata": {},
   "outputs": [],
   "source": [
    "\"\"\"書き込み\n",
    "\"\"\"\n",
    "df = pd.DataFrame({\n",
    "    \"数学の点数\":np.random.randint(40,100,(50)),\n",
    "    \"国語の点数\":np.random.randint(40,100,(50)),\n",
    "    \"英語の点数\":np.random.randint(40,100,(50)),\n",
    "})\n",
    "df.to_csv(\"./data/test_write.csv\",encoding='utf8')"
   ]
  },
  {
   "cell_type": "markdown",
   "metadata": {},
   "source": [
    "# Series\n",
    "ここまでは、DFについてみてきましたが、pandasのデータ構造には、Seriesというものがあります\n",
    "\n",
    "これは「DFの任意の列」と解釈されます"
   ]
  },
  {
   "cell_type": "code",
   "execution_count": 34,
   "metadata": {},
   "outputs": [
    {
     "name": "stdout",
     "output_type": "stream",
     "text": [
      "Aさん    60\n",
      "Bさん    55\n",
      "Cさん    90\n",
      "Dさん    99\n",
      "Eさん    73\n",
      "dtype: int64\n"
     ]
    }
   ],
   "source": [
    "\"\"\"Seriesの生成\n",
    "\"\"\"\n",
    "s = pd.Series([60, 55, 90, 99, 73], index=['Aさん', 'Bさん', 'Cさん', 'Dさん', 'Eさん'])\n",
    "print(s)"
   ]
  },
  {
   "cell_type": "code",
   "execution_count": 35,
   "metadata": {},
   "outputs": [
    {
     "name": "stdout",
     "output_type": "stream",
     "text": [
      "Aさん    60\n",
      "Bさん    55\n",
      "Cさん    90\n",
      "Dさん    99\n",
      "Eさん    73\n",
      "Name: 算数の点数, dtype: int64\n"
     ]
    }
   ],
   "source": [
    "\"\"\"Seriesの生成\n",
    "\"\"\"\n",
    "s = pd.Series([60, 55, 90, 99, 73], index=['Aさん', 'Bさん', 'Cさん', 'Dさん', 'Eさん'],name=\"算数の点数\")\n",
    "print(s)"
   ]
  },
  {
   "cell_type": "code",
   "execution_count": 36,
   "metadata": {},
   "outputs": [
    {
     "name": "stdout",
     "output_type": "stream",
     "text": [
      "60\n"
     ]
    }
   ],
   "source": [
    "\"\"\"データ取得\n",
    "\"\"\"\n",
    "print(s[\"Aさん\"])"
   ]
  },
  {
   "cell_type": "code",
   "execution_count": 37,
   "metadata": {},
   "outputs": [
    {
     "name": "stdout",
     "output_type": "stream",
     "text": [
      "Aさん     60\n",
      "Bさん     55\n",
      "Cさん     90\n",
      "Dさん     99\n",
      "Eさん     73\n",
      "Fさん    100\n",
      "dtype: int64\n"
     ]
    }
   ],
   "source": [
    "\"\"\"データ追加\n",
    "\"\"\"\n",
    "s_add = pd.Series({'Fさん': 100})\n",
    "s=s.append(s_add)\n",
    "print(s)"
   ]
  },
  {
   "cell_type": "code",
   "execution_count": 38,
   "metadata": {},
   "outputs": [
    {
     "name": "stdout",
     "output_type": "stream",
     "text": [
      "Aさん     60\n",
      "Bさん     55\n",
      "Cさん     90\n",
      "Dさん     99\n",
      "Eさん     73\n",
      "Fさん    100\n",
      "dtype: int64\n"
     ]
    }
   ],
   "source": [
    "\"\"\"行の追加\n",
    "\"\"\"\n",
    "s1 = pd.Series([60, 55, 90, 99, 73], index=['Aさん', 'Bさん', 'Cさん', 'Dさん', 'Eさん'])\n",
    "s2 = pd.Series({'Fさん': 100})\n",
    "\n",
    "s=s1.append(s2)\n",
    "print(s)"
   ]
  },
  {
   "cell_type": "code",
   "execution_count": 39,
   "metadata": {},
   "outputs": [
    {
     "name": "stdout",
     "output_type": "stream",
     "text": [
      "Aさん     60\n",
      "Bさん     55\n",
      "Cさん     90\n",
      "Dさん     99\n",
      "Eさん     73\n",
      "Fさん    100\n",
      "dtype: int64\n",
      "<class 'pandas.core.series.Series'>\n"
     ]
    }
   ],
   "source": [
    "\"\"\"行の追加\n",
    "\"\"\"\n",
    "s1 = pd.Series([60, 55, 90, 99, 73], index=['Aさん', 'Bさん', 'Cさん', 'Dさん', 'Eさん'])\n",
    "s2 = pd.Series({'Fさん': 100})\n",
    "\n",
    "s=pd.concat([s1,s2])\n",
    "print(s)\n",
    "print(type(s))"
   ]
  },
  {
   "cell_type": "code",
   "execution_count": 40,
   "metadata": {},
   "outputs": [
    {
     "name": "stdout",
     "output_type": "stream",
     "text": [
      "     算数の点数  国語の点数\n",
      "Aさん     60     65\n",
      "Bさん     55     59\n",
      "Cさん     90     60\n",
      "Dさん     99     90\n",
      "Eさん     73     83\n",
      "<class 'pandas.core.frame.DataFrame'>\n"
     ]
    }
   ],
   "source": [
    "\"\"\"列の追加\n",
    "\"\"\"\n",
    "s1 = pd.Series([60, 55, 90, 99, 73], index=['Aさん', 'Bさん', 'Cさん', 'Dさん', 'Eさん'],name=\"算数の点数\")\n",
    "s2 = pd.Series([65, 59, 60, 90, 83], index=['Aさん', 'Bさん', 'Cさん', 'Dさん', 'Eさん'],name=\"国語の点数\")\n",
    "\n",
    "s=pd.concat([s1,s2],axis=1)\n",
    "print(s)\n",
    "print(type(s))"
   ]
  },
  {
   "cell_type": "markdown",
   "metadata": {},
   "source": [
    "## 大規模なデータはデータベースで扱おう\n",
    "pandasのデータフレームは何かと便利ですが、「**メモリ**」を食います。大規模なデータ分析はCSVを用いるのでなく、データベースという専用のデータ格納システムに保存してあります。**データベースの講座**は、順次公開していきます"
   ]
  }
 ],
 "metadata": {
  "kernelspec": {
   "display_name": "Python 3",
   "language": "python",
   "name": "python3"
  },
  "language_info": {
   "codemirror_mode": {
    "name": "ipython",
    "version": 3
   },
   "file_extension": ".py",
   "mimetype": "text/x-python",
   "name": "python",
   "nbconvert_exporter": "python",
   "pygments_lexer": "ipython3",
   "version": "3.7.2"
  }
 },
 "nbformat": 4,
 "nbformat_minor": 2
}
