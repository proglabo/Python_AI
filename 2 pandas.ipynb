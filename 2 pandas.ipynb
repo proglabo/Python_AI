{
 "cells": [
  {
   "cell_type": "markdown",
   "metadata": {},
   "source": [
    "## pandas\n",
    "pandasは数値計算ライブラリです。\n",
    "\n",
    "公式ドキュメントURL(PDFになっている) \n",
    "\n",
    "https://pandas.pydata.org/pandas-docs/version/0.22/\n",
    "\n",
    "pandasの保持するデータ構造は「データフレーム」である（因みにNumpyは行列）\n",
    "\n",
    "データフレームとはいわゆる下記のような「表形式」を指します\n",
    "\n",
    "|　|姓|名|\n",
    "|:--|--:|--:|\n",
    "|1|ビート|たけし|\n",
    "|2|明石家|さんま|\n",
    "|3|島田|紳助|\n",
    "\n",
    "姓名と書かれている部分がcolumn(列名)\n",
    "\n",
    "1,2,3と書かれている部分がindex(行名)と言われます"
   ]
  },
  {
   "cell_type": "markdown",
   "metadata": {},
   "source": [
    "# DF生成"
   ]
  },
  {
   "cell_type": "code",
   "execution_count": 3,
   "metadata": {},
   "outputs": [],
   "source": [
    "\"\"\"読み込み\n",
    "pandasはNumpyと共に使用されることが多い\n",
    "\"\"\"\n",
    "import pandas as pd\n",
    "import numpy as np"
   ]
  },
  {
   "cell_type": "code",
   "execution_count": 4,
   "metadata": {},
   "outputs": [
    {
     "name": "stdout",
     "output_type": "stream",
     "text": [
      "   0  1\n",
      "0  1  2\n",
      "1  3  4\n"
     ]
    }
   ],
   "source": [
    "\"\"\"DF生成法1\n",
    "columns,indexのデフォルトは、0から始まる連番\n",
    "\"\"\"\n",
    "df = pd.DataFrame([[1,2],[3,4]])\n",
    "print(df)"
   ]
  },
  {
   "cell_type": "code",
   "execution_count": 5,
   "metadata": {},
   "outputs": [
    {
     "name": "stdout",
     "output_type": "stream",
     "text": [
      "     姓    名\n",
      "1  ビート  たけし\n",
      "2  明石家  さんま\n",
      "3   島田   紳助\n"
     ]
    }
   ],
   "source": [
    "\"\"\"DF生成法2\n",
    "\"\"\"\n",
    "df = pd.DataFrame(\n",
    "    {\n",
    "        \"姓\":[\"ビート\",\"明石家\",\"島田\"],\n",
    "        \"名\":[\"たけし\",\"さんま\",\"紳助\"]\n",
    "    },index=[\"1\",\"2\",\"3\"]\n",
    ")\n",
    "print(df)"
   ]
  },
  {
   "cell_type": "code",
   "execution_count": 6,
   "metadata": {},
   "outputs": [
    {
     "name": "stdout",
     "output_type": "stream",
     "text": [
      "     姓    名\n",
      "1  ビート  たけし\n",
      "2  明石家  さんま\n",
      "3   島田   紳助\n"
     ]
    }
   ],
   "source": [
    "\"\"\"DF生成法3\n",
    "\"\"\"\n",
    "df = pd.DataFrame(\n",
    "    [\n",
    "        [\"ビート\",\"たけし\"],\n",
    "        [\"明石家\",\"さんま\"],\n",
    "        [\"島田\",\"紳助\"]\n",
    "    ]\n",
    "    ,index=[\"1\",\"2\",\"3\"]\n",
    "    ,columns=[\"姓\",\"名\"]\n",
    ")\n",
    "print(df)"
   ]
  },
  {
   "cell_type": "markdown",
   "metadata": {},
   "source": [
    "# DFへのアクセス"
   ]
  },
  {
   "cell_type": "code",
   "execution_count": 7,
   "metadata": {
    "scrolled": true
   },
   "outputs": [
    {
     "name": "stdout",
     "output_type": "stream",
     "text": [
      "    数学の点数  国語の点数  英語の点数\n",
      "0      46     72     64\n",
      "1      55     50     67\n",
      "2      80     58     45\n",
      "3      57     72     72\n",
      "4      88     49     57\n",
      "5      70     56     86\n",
      "6      99     59     92\n",
      "7      85     43     48\n",
      "8      46     71     67\n",
      "9      46     49     41\n",
      "10     55     72     83\n",
      "11     54     83     85\n",
      "12     69     97     73\n",
      "13     48     60     79\n",
      "14     49     74     74\n",
      "15     87     57     48\n",
      "16     92     41     76\n",
      "17     49     72     56\n",
      "18     56     81     82\n",
      "19     41     72     95\n",
      "20     90     53     94\n",
      "21     71     87     85\n",
      "22     57     94     40\n",
      "23     72     81     44\n",
      "24     67     94     80\n",
      "25     70     74     51\n",
      "26     91     71     85\n",
      "27     82     86     59\n",
      "28     78     73     83\n",
      "29     90     92     57\n",
      "..    ...    ...    ...\n",
      "70     62     54     49\n",
      "71     92     60     67\n",
      "72     58     72     92\n",
      "73     66     42     54\n",
      "74     84     69     79\n",
      "75     90     80     74\n",
      "76     63     41     99\n",
      "77     85     67     80\n",
      "78     57     81     97\n",
      "79     52     74     49\n",
      "80     79     59     82\n",
      "81     63     78     77\n",
      "82     45     70     54\n",
      "83     43     57     52\n",
      "84     52     83     42\n",
      "85     44     94     93\n",
      "86     69     91     81\n",
      "87     86     68     82\n",
      "88     49     70     74\n",
      "89     95     67     96\n",
      "90     60     99     90\n",
      "91     40     98     52\n",
      "92     74     81     74\n",
      "93     47     80     99\n",
      "94     94     58     58\n",
      "95     45     73     94\n",
      "96     41     76     91\n",
      "97     55     95     90\n",
      "98     67     79     61\n",
      "99     76     97     51\n",
      "\n",
      "[100 rows x 3 columns]\n"
     ]
    }
   ],
   "source": [
    "\"\"\"データフレーム情報取得\n",
    "通常はnumpyと共に使用されることが多いので、ここでは、numpyを用いてデータフレーム内の値を生成しています\n",
    "\"\"\"\n",
    "df = pd.DataFrame({\n",
    "    \"数学の点数\":np.random.randint(40,100,(100)),\n",
    "    \"国語の点数\":np.random.randint(40,100,(100)),\n",
    "    \"英語の点数\":np.random.randint(40,100,(100)),\n",
    "})\n",
    "print(df)"
   ]
  },
  {
   "cell_type": "code",
   "execution_count": 8,
   "metadata": {},
   "outputs": [
    {
     "name": "stdout",
     "output_type": "stream",
     "text": [
      "   数学の点数  国語の点数  英語の点数\n",
      "0     46     72     64\n",
      "1     55     50     67\n",
      "2     80     58     45\n",
      "3     57     72     72\n",
      "4     88     49     57\n"
     ]
    }
   ],
   "source": [
    "\"\"\"先頭5行取得\n",
    "\"\"\"\n",
    "print(df.head())"
   ]
  },
  {
   "cell_type": "code",
   "execution_count": 9,
   "metadata": {},
   "outputs": [
    {
     "name": "stdout",
     "output_type": "stream",
     "text": [
      "    数学の点数  国語の点数  英語の点数\n",
      "95     45     73     94\n",
      "96     41     76     91\n",
      "97     55     95     90\n",
      "98     67     79     61\n",
      "99     76     97     51\n"
     ]
    }
   ],
   "source": [
    "\"\"\"末尾の5行\n",
    "\"\"\"\n",
    "print(df.tail())"
   ]
  },
  {
   "cell_type": "code",
   "execution_count": 10,
   "metadata": {},
   "outputs": [
    {
     "name": "stdout",
     "output_type": "stream",
     "text": [
      "            数学の点数      国語の点数       英語の点数\n",
      "count  100.000000  100.00000  100.000000\n",
      "mean    67.070000   72.57000   70.590000\n",
      "std     17.778806   16.77375   18.047689\n",
      "min     40.000000   41.00000   40.000000\n",
      "25%     51.500000   58.75000   54.000000\n",
      "50%     65.500000   72.00000   74.000000\n",
      "75%     85.000000   87.25000   85.000000\n",
      "max     99.000000   99.00000   99.000000\n"
     ]
    }
   ],
   "source": [
    "\"\"\"統計量の取得\n",
    "\"\"\"\n",
    "print(df.describe())"
   ]
  },
  {
   "cell_type": "code",
   "execution_count": 11,
   "metadata": {},
   "outputs": [
    {
     "name": "stdout",
     "output_type": "stream",
     "text": [
      "Index(['数学の点数', '国語の点数', '英語の点数'], dtype='object')\n"
     ]
    }
   ],
   "source": [
    "\"\"\"カラムの定義\n",
    "\"\"\"\n",
    "print(df.columns)"
   ]
  },
  {
   "cell_type": "code",
   "execution_count": 12,
   "metadata": {},
   "outputs": [
    {
     "name": "stdout",
     "output_type": "stream",
     "text": [
      "RangeIndex(start=0, stop=100, step=1)\n"
     ]
    }
   ],
   "source": [
    "\"\"\"インデックスの定義\n",
    "\"\"\"\n",
    "print(df.index)"
   ]
  },
  {
   "cell_type": "code",
   "execution_count": 13,
   "metadata": {
    "scrolled": true
   },
   "outputs": [
    {
     "name": "stdout",
     "output_type": "stream",
     "text": [
      "0     46\n",
      "1     55\n",
      "2     80\n",
      "3     57\n",
      "4     88\n",
      "5     70\n",
      "6     99\n",
      "7     85\n",
      "8     46\n",
      "9     46\n",
      "10    55\n",
      "11    54\n",
      "12    69\n",
      "13    48\n",
      "14    49\n",
      "15    87\n",
      "16    92\n",
      "17    49\n",
      "18    56\n",
      "19    41\n",
      "20    90\n",
      "21    71\n",
      "22    57\n",
      "23    72\n",
      "24    67\n",
      "25    70\n",
      "26    91\n",
      "27    82\n",
      "28    78\n",
      "29    90\n",
      "      ..\n",
      "70    62\n",
      "71    92\n",
      "72    58\n",
      "73    66\n",
      "74    84\n",
      "75    90\n",
      "76    63\n",
      "77    85\n",
      "78    57\n",
      "79    52\n",
      "80    79\n",
      "81    63\n",
      "82    45\n",
      "83    43\n",
      "84    52\n",
      "85    44\n",
      "86    69\n",
      "87    86\n",
      "88    49\n",
      "89    95\n",
      "90    60\n",
      "91    40\n",
      "92    74\n",
      "93    47\n",
      "94    94\n",
      "95    45\n",
      "96    41\n",
      "97    55\n",
      "98    67\n",
      "99    76\n",
      "Name: 数学の点数, Length: 100, dtype: int32\n"
     ]
    }
   ],
   "source": [
    "\"\"\"特定列の取得\n",
    "\"\"\"\n",
    "print(df[\"数学の点数\"])"
   ]
  },
  {
   "cell_type": "code",
   "execution_count": 14,
   "metadata": {},
   "outputs": [
    {
     "name": "stdout",
     "output_type": "stream",
     "text": [
      "   数学の点数  国語の点数  英語の点数\n",
      "1     55     50     67\n",
      "2     80     58     45\n",
      "3     57     72     72\n",
      "4     88     49     57\n",
      "5     70     56     86\n",
      "6     99     59     92\n",
      "7     85     43     48\n",
      "8     46     71     67\n",
      "9     46     49     41\n"
     ]
    }
   ],
   "source": [
    "\"\"\"特定行の取得\n",
    "\"\"\"\n",
    "print(df[1:10])"
   ]
  },
  {
   "cell_type": "code",
   "execution_count": 15,
   "metadata": {},
   "outputs": [
    {
     "name": "stdout",
     "output_type": "stream",
     "text": [
      "    数学の点数  英語の点数\n",
      "1      55     67\n",
      "2      80     45\n",
      "3      57     72\n",
      "4      88     57\n",
      "5      70     86\n",
      "6      99     92\n",
      "7      85     48\n",
      "8      46     67\n",
      "9      46     41\n",
      "10     55     83\n"
     ]
    }
   ],
   "source": [
    "\"\"\"特定行列の取得\n",
    "\"\"\"\n",
    "print(df.loc[\n",
    "    1:10,\n",
    "    [\"数学の点数\",\"英語の点数\"]\n",
    "])"
   ]
  },
  {
   "cell_type": "code",
   "execution_count": 16,
   "metadata": {},
   "outputs": [
    {
     "name": "stdout",
     "output_type": "stream",
     "text": [
      "    数学の点数  国語の点数  英語の点数\n",
      "6      99     59     92\n",
      "16     92     41     76\n",
      "20     90     53     94\n",
      "26     91     71     85\n",
      "29     90     92     57\n",
      "30     91     98     70\n",
      "32     98     96     80\n",
      "35     94     88     75\n",
      "44     98     47     62\n",
      "48     98     62     79\n",
      "67     96     69     65\n",
      "71     92     60     67\n",
      "75     90     80     74\n",
      "89     95     67     96\n",
      "94     94     58     58\n"
     ]
    }
   ],
   "source": [
    "\"\"\"条件で取得\n",
    "\"\"\"\n",
    "print(df[df.数学の点数>=90])"
   ]
  },
  {
   "cell_type": "code",
   "execution_count": 17,
   "metadata": {},
   "outputs": [
    {
     "name": "stdout",
     "output_type": "stream",
     "text": [
      "6     59\n",
      "16    41\n",
      "20    53\n",
      "26    71\n",
      "29    92\n",
      "30    98\n",
      "32    96\n",
      "35    88\n",
      "44    47\n",
      "48    62\n",
      "67    69\n",
      "71    60\n",
      "75    80\n",
      "89    67\n",
      "94    58\n",
      "Name: 国語の点数, dtype: int32\n"
     ]
    }
   ],
   "source": [
    "\"\"\"条件で取得\n",
    "\"\"\"\n",
    "print(df[\"国語の点数\"][df.数学の点数>=90])"
   ]
  },
  {
   "cell_type": "markdown",
   "metadata": {},
   "source": [
    "# 追加と削除"
   ]
  },
  {
   "cell_type": "markdown",
   "metadata": {},
   "source": [
    "## 行の追加"
   ]
  },
  {
   "cell_type": "code",
   "execution_count": 18,
   "metadata": {},
   "outputs": [
    {
     "name": "stdout",
     "output_type": "stream",
     "text": [
      "   数学の点数  国語の点数  英語の点数\n",
      "0     53     45     86\n",
      "1     93     43     72\n",
      "2     76     55     92\n",
      "3     70     84     47\n",
      "4     41     83     58\n"
     ]
    }
   ],
   "source": [
    "\"\"\"行の追加\n",
    "\"\"\"\n",
    "df1 = pd.DataFrame({\n",
    "    \"数学の点数\":np.random.randint(40,100,(5)),\n",
    "    \"国語の点数\":np.random.randint(40,100,(5)),\n",
    "    \"英語の点数\":np.random.randint(40,100,(5)),\n",
    "})\n",
    "print(df1)"
   ]
  },
  {
   "cell_type": "code",
   "execution_count": 19,
   "metadata": {},
   "outputs": [
    {
     "name": "stdout",
     "output_type": "stream",
     "text": [
      "   数学の点数  国語の点数  英語の点数\n",
      "0     95     92     95\n"
     ]
    }
   ],
   "source": [
    "df2 = pd.DataFrame({\n",
    "    \"数学の点数\":np.random.randint(40,100,(1)),\n",
    "    \"国語の点数\":np.random.randint(40,100,(1)),\n",
    "    \"英語の点数\":np.random.randint(40,100,(1)),\n",
    "})\n",
    "print(df2)"
   ]
  },
  {
   "cell_type": "code",
   "execution_count": 20,
   "metadata": {},
   "outputs": [
    {
     "name": "stdout",
     "output_type": "stream",
     "text": [
      "   数学の点数  国語の点数  英語の点数\n",
      "0     53     45     86\n",
      "1     93     43     72\n",
      "2     76     55     92\n",
      "3     70     84     47\n",
      "4     41     83     58\n",
      "0     95     92     95\n"
     ]
    }
   ],
   "source": [
    "df=df1.append(df2)\n",
    "print(df)"
   ]
  },
  {
   "cell_type": "code",
   "execution_count": 21,
   "metadata": {},
   "outputs": [
    {
     "name": "stdout",
     "output_type": "stream",
     "text": [
      "   数学の点数  国語の点数  英語の点数\n",
      "0     53     45     86\n",
      "1     93     43     72\n",
      "2     76     55     92\n",
      "3     70     84     47\n",
      "4     41     83     58\n",
      "0     95     92     95\n"
     ]
    }
   ],
   "source": [
    "df=pd.concat([df1,df2])\n",
    "print(df)"
   ]
  },
  {
   "cell_type": "markdown",
   "metadata": {},
   "source": [
    "## 列の追加"
   ]
  },
  {
   "cell_type": "code",
   "execution_count": 28,
   "metadata": {},
   "outputs": [
    {
     "name": "stdout",
     "output_type": "stream",
     "text": [
      "   数学の点数  国語の点数  英語の点数\n",
      "0     88     46     94\n",
      "1     97     64     79\n",
      "2     87     78     70\n",
      "3     61     54     70\n",
      "4     46     98     40\n"
     ]
    }
   ],
   "source": [
    "\"\"\"列の追加\n",
    "\"\"\"\n",
    "df1 = pd.DataFrame({\n",
    "    \"数学の点数\":np.random.randint(40,100,(5)),\n",
    "    \"国語の点数\":np.random.randint(40,100,(5)),\n",
    "    \"英語の点数\":np.random.randint(40,100,(5)),\n",
    "})\n",
    "print(df1)"
   ]
  },
  {
   "cell_type": "code",
   "execution_count": 29,
   "metadata": {},
   "outputs": [
    {
     "name": "stdout",
     "output_type": "stream",
     "text": [
      "   理科の点数\n",
      "0     71\n",
      "1     96\n",
      "2     92\n",
      "3     82\n",
      "4     63\n"
     ]
    }
   ],
   "source": [
    "df2 = pd.DataFrame({\n",
    "    \"理科の点数\":np.random.randint(40,100,(5)),\n",
    "})\n",
    "print(df2)"
   ]
  },
  {
   "cell_type": "code",
   "execution_count": 30,
   "metadata": {},
   "outputs": [
    {
     "name": "stdout",
     "output_type": "stream",
     "text": [
      "   数学の点数  国語の点数  英語の点数  理科の点数\n",
      "0     88     46     94     71\n",
      "1     97     64     79     96\n",
      "2     87     78     70     92\n",
      "3     61     54     70     82\n",
      "4     46     98     40     63\n"
     ]
    }
   ],
   "source": [
    "df1[\"理科の点数\"]=df2\n",
    "print(df1)"
   ]
  },
  {
   "cell_type": "code",
   "execution_count": 31,
   "metadata": {},
   "outputs": [
    {
     "name": "stdout",
     "output_type": "stream",
     "text": [
      "   社会の点数\n",
      "0     95\n",
      "1     54\n",
      "2     76\n",
      "3     79\n",
      "4     49\n"
     ]
    }
   ],
   "source": [
    "df3 = pd.DataFrame({\n",
    "    \"社会の点数\":np.random.randint(40,100,(5)),\n",
    "})\n",
    "print(df3)"
   ]
  },
  {
   "cell_type": "code",
   "execution_count": 32,
   "metadata": {},
   "outputs": [
    {
     "name": "stdout",
     "output_type": "stream",
     "text": [
      "   数学の点数  国語の点数  英語の点数  理科の点数  社会の点数\n",
      "0     88     46     94     71     95\n",
      "1     97     64     79     96     54\n",
      "2     87     78     70     92     76\n",
      "3     61     54     70     82     79\n",
      "4     46     98     40     63     49\n"
     ]
    }
   ],
   "source": [
    "df=pd.concat([df1,df3],axis=1)\n",
    "print(df)"
   ]
  },
  {
   "cell_type": "code",
   "execution_count": 33,
   "metadata": {},
   "outputs": [],
   "source": [
    "## 行列の削除"
   ]
  },
  {
   "cell_type": "code",
   "execution_count": 35,
   "metadata": {},
   "outputs": [
    {
     "name": "stdout",
     "output_type": "stream",
     "text": [
      "   数学の点数  国語の点数  英語の点数\n",
      "0     48     87     71\n",
      "1     58     57     99\n",
      "2     48     63     78\n",
      "3     57     47     43\n",
      "4     88     86     44\n"
     ]
    }
   ],
   "source": [
    "df = pd.DataFrame({\n",
    "    \"数学の点数\":np.random.randint(40,100,(5)),\n",
    "    \"国語の点数\":np.random.randint(40,100,(5)),\n",
    "    \"英語の点数\":np.random.randint(40,100,(5)),\n",
    "})\n",
    "print(df)"
   ]
  },
  {
   "cell_type": "code",
   "execution_count": 36,
   "metadata": {},
   "outputs": [
    {
     "name": "stdout",
     "output_type": "stream",
     "text": [
      "   数学の点数  国語の点数  英語の点数\n",
      "0     48     87     71\n",
      "2     48     63     78\n",
      "3     57     47     43\n",
      "4     88     86     44\n"
     ]
    }
   ],
   "source": [
    "\"\"\"行の削除\"\"\"\n",
    "df=df.drop(1)\n",
    "print(df)"
   ]
  },
  {
   "cell_type": "code",
   "execution_count": 37,
   "metadata": {},
   "outputs": [
    {
     "name": "stdout",
     "output_type": "stream",
     "text": [
      "   国語の点数  英語の点数\n",
      "0     87     71\n",
      "2     63     78\n",
      "3     47     43\n",
      "4     86     44\n"
     ]
    }
   ],
   "source": [
    "\"\"\"列の削除\n",
    "\"\"\"\n",
    "del df[\"数学の点数\"]\n",
    "print(df)"
   ]
  },
  {
   "cell_type": "markdown",
   "metadata": {},
   "source": [
    "# ファイルへの読み書き\n",
    "csvデータをpandasのデータフレームとして扱うことができます"
   ]
  },
  {
   "cell_type": "code",
   "execution_count": 38,
   "metadata": {},
   "outputs": [
    {
     "name": "stdout",
     "output_type": "stream",
     "text": [
      "     姓    名\n",
      "0  明石家  サンマ\n",
      "1  ビート  たけし\n",
      "2   島田   紳助\n"
     ]
    }
   ],
   "source": [
    "\"\"\"読み込み\n",
    "\"\"\"\n",
    "df=pd.read_csv(\"./data/test_read.csv\",engine='python',encoding='utf8')\n",
    "print(df)"
   ]
  },
  {
   "cell_type": "code",
   "execution_count": 39,
   "metadata": {},
   "outputs": [
    {
     "name": "stdout",
     "output_type": "stream",
     "text": [
      "     0    1\n",
      "0    姓    名\n",
      "1  明石家  サンマ\n",
      "2  ビート  たけし\n",
      "3   島田   紳助\n"
     ]
    }
   ],
   "source": [
    "\"\"\"1行目をヘッダーとして扱わない\n",
    "\"\"\"\n",
    "df=pd.read_csv(\"./data/test_read.csv\",engine='python',header=None,encoding='utf8')\n",
    "print(df)"
   ]
  },
  {
   "cell_type": "code",
   "execution_count": 40,
   "metadata": {},
   "outputs": [],
   "source": [
    "\"\"\"書き込み\n",
    "\"\"\"\n",
    "df = pd.DataFrame({\n",
    "    \"数学の点数\":np.random.randint(40,100,(50)),\n",
    "    \"国語の点数\":np.random.randint(40,100,(50)),\n",
    "    \"英語の点数\":np.random.randint(40,100,(50)),\n",
    "})\n",
    "df.to_csv(\"./data/test_write.csv\",encoding='utf8')"
   ]
  },
  {
   "cell_type": "markdown",
   "metadata": {},
   "source": [
    "# Series\n",
    "ここまでは、DFについてみてきましたが、pandasのデータ構造には、Seriesというものがあります\n",
    "\n",
    "これは「DFの任意の列」と解釈されます"
   ]
  },
  {
   "cell_type": "code",
   "execution_count": 45,
   "metadata": {},
   "outputs": [
    {
     "name": "stdout",
     "output_type": "stream",
     "text": [
      "Aさん    60\n",
      "Bさん    55\n",
      "Cさん    90\n",
      "Dさん    99\n",
      "Eさん    73\n",
      "dtype: int64\n"
     ]
    }
   ],
   "source": [
    "\"\"\"Seriesの生成\n",
    "\"\"\"\n",
    "s = pd.Series([60, 55, 90, 99, 73], index=['Aさん', 'Bさん', 'Cさん', 'Dさん', 'Eさん'])\n",
    "print(s)"
   ]
  },
  {
   "cell_type": "code",
   "execution_count": 46,
   "metadata": {},
   "outputs": [
    {
     "name": "stdout",
     "output_type": "stream",
     "text": [
      "Aさん    60\n",
      "Bさん    55\n",
      "Cさん    90\n",
      "Dさん    99\n",
      "Eさん    73\n",
      "Name: 算数の点数, dtype: int64\n"
     ]
    }
   ],
   "source": [
    "\"\"\"Seriesの生成+Name\n",
    "\"\"\"\n",
    "s = pd.Series([60, 55, 90, 99, 73], index=['Aさん', 'Bさん', 'Cさん', 'Dさん', 'Eさん'],name=\"算数の点数\")\n",
    "print(s)"
   ]
  },
  {
   "cell_type": "code",
   "execution_count": 47,
   "metadata": {},
   "outputs": [
    {
     "name": "stdout",
     "output_type": "stream",
     "text": [
      "60\n"
     ]
    }
   ],
   "source": [
    "\"\"\"データ取得\n",
    "\"\"\"\n",
    "print(s[\"Aさん\"])"
   ]
  },
  {
   "cell_type": "code",
   "execution_count": 48,
   "metadata": {},
   "outputs": [
    {
     "name": "stdout",
     "output_type": "stream",
     "text": [
      "Aさん     60\n",
      "Bさん     55\n",
      "Cさん     90\n",
      "Dさん     99\n",
      "Eさん     73\n",
      "Fさん    100\n",
      "dtype: int64\n"
     ]
    }
   ],
   "source": [
    "\"\"\"データ追加\n",
    "\"\"\"\n",
    "s_add = pd.Series({'Fさん': 100})\n",
    "s_new=s.append(s_add)\n",
    "print(s_new)"
   ]
  },
  {
   "cell_type": "code",
   "execution_count": 49,
   "metadata": {},
   "outputs": [
    {
     "name": "stdout",
     "output_type": "stream",
     "text": [
      "Aさん     60\n",
      "Bさん     55\n",
      "Cさん     90\n",
      "Dさん     99\n",
      "Eさん     73\n",
      "Fさん    100\n",
      "dtype: int64\n",
      "<class 'pandas.core.series.Series'>\n"
     ]
    }
   ],
   "source": [
    "\"\"\"行の追加\n",
    "\"\"\"\n",
    "s_new=pd.concat([s,s_add])\n",
    "print(s_new)\n",
    "print(type(s_new))"
   ]
  },
  {
   "cell_type": "code",
   "execution_count": 40,
   "metadata": {},
   "outputs": [
    {
     "name": "stdout",
     "output_type": "stream",
     "text": [
      "     算数の点数  国語の点数\n",
      "Aさん     60     65\n",
      "Bさん     55     59\n",
      "Cさん     90     60\n",
      "Dさん     99     90\n",
      "Eさん     73     83\n",
      "<class 'pandas.core.frame.DataFrame'>\n"
     ]
    }
   ],
   "source": [
    "\"\"\"列の追加\n",
    "\"\"\"\n",
    "s1 = pd.Series([60, 55, 90, 99, 73], index=['Aさん', 'Bさん', 'Cさん', 'Dさん', 'Eさん'],name=\"算数の点数\")\n",
    "s2 = pd.Series([65, 59, 60, 90, 83], index=['Aさん', 'Bさん', 'Cさん', 'Dさん', 'Eさん'],name=\"国語の点数\")\n",
    "\n",
    "s=pd.concat([s1,s2],axis=1)\n",
    "print(s)\n",
    "print(type(s))"
   ]
  },
  {
   "cell_type": "markdown",
   "metadata": {},
   "source": [
    "つまり、Pandasでは\n",
    "\n",
    "+ Series：１次元\n",
    "+ DataFrame：２次元"
   ]
  },
  {
   "cell_type": "markdown",
   "metadata": {},
   "source": [
    "## 大規模なデータはデータベースで扱おう\n",
    "pandasのデータフレームは何かと便利ですが、「**メモリ**」を食います。大規模なデータ分析はCSVを用いるのでなく、データベースという専用のデータ格納システムに保存してあります。**データベースの講座**は、順次公開していきます"
   ]
  }
 ],
 "metadata": {
  "kernelspec": {
   "display_name": "Python 3",
   "language": "python",
   "name": "python3"
  },
  "language_info": {
   "codemirror_mode": {
    "name": "ipython",
    "version": 3
   },
   "file_extension": ".py",
   "mimetype": "text/x-python",
   "name": "python",
   "nbconvert_exporter": "python",
   "pygments_lexer": "ipython3",
   "version": "3.6.8"
  }
 },
 "nbformat": 4,
 "nbformat_minor": 2
}
